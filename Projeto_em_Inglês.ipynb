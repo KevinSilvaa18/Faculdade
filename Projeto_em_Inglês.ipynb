{
  "nbformat": 4,
  "nbformat_minor": 0,
  "metadata": {
    "colab": {
      "provenance": [],
      "authorship_tag": "ABX9TyPRP2hIbQ65WAKElLW1VXD5",
      "include_colab_link": true
    },
    "kernelspec": {
      "name": "python3",
      "display_name": "Python 3"
    },
    "language_info": {
      "name": "python"
    }
  },
  "cells": [
    {
      "cell_type": "markdown",
      "metadata": {
        "id": "view-in-github",
        "colab_type": "text"
      },
      "source": [
        "<a href=\"https://colab.research.google.com/github/KevinSilvaa18/Faculdade/blob/main/Projeto_em_Ingl%C3%AAs.ipynb\" target=\"_parent\"><img src=\"https://colab.research.google.com/assets/colab-badge.svg\" alt=\"Open In Colab\"/></a>"
      ]
    },
    {
      "cell_type": "code",
      "execution_count": null,
      "metadata": {
        "id": "_nI0Kd16IwbA",
        "colab": {
          "base_uri": "https://localhost:8080/"
        },
        "outputId": "1dea58a8-3a22-4cbe-dd19-24e82de7475a"
      },
      "outputs": [
        {
          "output_type": "stream",
          "name": "stdout",
          "text": [
            "Welcome to the Student Grade Management System!\n",
            "Enter student's name: John\n",
            "Enter a grade (or -1 to finish): 10\n",
            "Enter a grade (or -1 to finish): 10\n",
            "Enter a grade (or -1 to finish): 5\n",
            "Enter a grade (or -1 to finish): 2\n",
            "Enter a grade (or -1 to finish): 8\n",
            "Enter a grade (or -1 to finish): 5\n",
            "Enter a grade (or -1 to finish): 6\n",
            "Enter a grade (or -1 to finish): -1\n",
            "\n",
            "Final Report:\n",
            "Student's Name: John\n",
            "Grades: [10.0, 10.0, 5.0, 2.0, 8.0, 5.0, 6.0]\n",
            "Average: 6.57\n",
            "Situation: Reproved\n",
            "Highest Grade: 10.0\n",
            "Lowest Grade: 2.0\n",
            "Number of Grades Above Average: 3\n"
          ]
        }
      ],
      "source": [
        "# Constants\n",
        "MIN_GRADE = 0.0\n",
        "MAX_GRADE = 10.0\n",
        "PASSING_GRADE = 7.0\n",
        "\n",
        "# Function to add grades\n",
        "def add_grade():\n",
        "    \"\"\"Adds a new grade to the student's grade list.\"\"\"\n",
        "    grades = []\n",
        "    while True:\n",
        "        try:\n",
        "            grade = float(input(f\"Enter the student's grade (between {MIN_GRADE} and {MAX_GRADE}, or -1 to finish): \"))\n",
        "            if grade == -1:\n",
        "                if len(grades) == 0:\n",
        "                    print(\"You must add at least one grade.\")\n",
        "                    continue\n",
        "                break\n",
        "            if MIN_GRADE <= grade <= MAX_GRADE:\n",
        "                grades.append(grade)\n",
        "            else:\n",
        "                print(f\"Please enter a grade between {MIN_GRADE} and {MAX_GRADE}.\")\n",
        "        except ValueError:\n",
        "            print(\"Invalid input. Please enter a valid number.\")\n",
        "    return grades\n",
        "\n",
        "# Function to calculate average\n",
        "def calculate_average(grades):\n",
        "    \"\"\"Calculates the average of the student's grades.\"\"\"\n",
        "    return sum(grades) / len(grades) if grades else 0\n",
        "\n",
        "# Function to check student status\n",
        "def check_status(average):\n",
        "    \"\"\"Checks the student's status (pass or fail) based on the average.\"\"\"\n",
        "    return \"Passed\" if average >= PASSING_GRADE else \"Failed\"\n",
        "\n",
        "# Function to display the student's report\n",
        "def display_report(name, grades, average, status):\n",
        "    \"\"\"Displays a complete report of the student's grades.\"\"\"\n",
        "    print(\"\\nStudent Report:\")\n",
        "    print(f\"Name: {name}\")\n",
        "    print(f\"Grades: {grades}\")\n",
        "    print(f\"Average: {average:.2f}\")\n",
        "    print(f\"Status: {status}\")\n",
        "    print(f\"Highest Grade: {max(grades):.2f}\")\n",
        "    print(f\"Lowest Grade: {min(grades):.2f}\")\n",
        "    print(f\"Grades Above Average: {sum(1 for g in grades if g > average)}\")\n",
        "\n",
        "# Function to save student data to a file\n",
        "def save_student_data(name, grades, average, status):\n",
        "    \"\"\"Saves the student's data to a text file.\"\"\"\n",
        "    with open(\"student_data.txt\", \"a\") as file:\n",
        "        file.write(f\"Name: {name}\\n\")\n",
        "        file.write(f\"Grades: {grades}\\n\")\n",
        "        file.write(f\"Average: {average:.2f}\\n\")\n",
        "        file.write\n"
      ]
    }
  ]
}