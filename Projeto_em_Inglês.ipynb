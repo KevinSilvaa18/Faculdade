{
  "nbformat": 4,
  "nbformat_minor": 0,
  "metadata": {
    "colab": {
      "provenance": [],
      "authorship_tag": "ABX9TyNlKugcGtUk5JZn/g2SJcEz",
      "include_colab_link": true
    },
    "kernelspec": {
      "name": "python3",
      "display_name": "Python 3"
    },
    "language_info": {
      "name": "python"
    }
  },
  "cells": [
    {
      "cell_type": "markdown",
      "metadata": {
        "id": "view-in-github",
        "colab_type": "text"
      },
      "source": [
        "<a href=\"https://colab.research.google.com/github/KevinSilvaa18/Faculdade/blob/main/Projeto_em_Ingl%C3%AAs.ipynb\" target=\"_parent\"><img src=\"https://colab.research.google.com/assets/colab-badge.svg\" alt=\"Open In Colab\"/></a>"
      ]
    },
    {
      "cell_type": "code",
      "execution_count": 5,
      "metadata": {
        "id": "_nI0Kd16IwbA"
      },
      "outputs": [],
      "source": [
        "# Constants\n",
        "MIN_GRADE = 0.0\n",
        "MAX_GRADE = 10.0\n",
        "PASSING_GRADE = 7.0\n",
        "\n",
        "# Function to add grades\n",
        "def add_grade():\n",
        "    \"\"\"Adds a new grade to the student's grade list.\"\"\"\n",
        "    grades = []\n",
        "    while True:\n",
        "        try:\n",
        "            grade = float(input(f\"Enter the student's grade (between {MIN_GRADE} and {MAX_GRADE}, or -1 to finish): \"))\n",
        "            if grade == -1:\n",
        "                if len(grades) == 0:\n",
        "                    print(\"You must add at least one grade.\")\n",
        "                    continue\n",
        "                break\n",
        "            if MIN_GRADE <= grade <= MAX_GRADE:\n",
        "                grades.append(grade)\n",
        "            else:\n",
        "                print(f\"Please enter a grade between {MIN_GRADE} and {MAX_GRADE}.\")\n",
        "        except ValueError:\n",
        "            print(\"Invalid input. Please enter a valid number.\")\n",
        "    return grades\n",
        "\n",
        "# Function to calculate average\n",
        "def calculate_average(grades):\n",
        "    \"\"\"Calculates the average of the student's grades.\"\"\"\n",
        "    return sum(grades) / len(grades) if grades else 0\n",
        "\n",
        "# Function to check student status\n",
        "def check_status(average):\n",
        "    \"\"\"Checks the student's status (pass or fail) based on the average.\"\"\"\n",
        "    return \"Passed\" if average >= PASSING_GRADE else \"Failed\"\n",
        "\n",
        "# Function to display the student's report\n",
        "def display_report(name, grades, average, status):\n",
        "    \"\"\"Displays a complete report of the student's grades.\"\"\"\n",
        "    print(\"\\nStudent Report:\")\n",
        "    print(f\"Name: {name}\")\n",
        "    print(f\"Grades: {grades}\")\n",
        "    print(f\"Average: {average:.2f}\")\n",
        "    print(f\"Status: {status}\")\n",
        "    print(f\"Highest Grade: {max(grades):.2f}\")\n",
        "    print(f\"Lowest Grade: {min(grades):.2f}\")\n",
        "    print(f\"Grades Above Average: {sum(1 for g in grades if g > average)}\")\n",
        "\n",
        "# Function to save student data to a file\n",
        "def save_student_data(name, grades, average, status):\n",
        "    \"\"\"Saves the student's data to a text file.\"\"\"\n",
        "    with open(\"student_data.txt\", \"a\") as file:\n",
        "        file.write(f\"Name: {name}\\n\")\n",
        "        file.write(f\"Grades: {grades}\\n\")\n",
        "        file.write(f\"Average: {average:.2f}\\n\")\n",
        "        file.write\n"
      ]
    },
    {
      "cell_type": "markdown",
      "source": [
        "The student grade management system operates in several stages, organised into functions:\n",
        "Add grades: The add_grade() function requires the user to enter the student's grades. The grades are added to a list until the user types -1, with validation to ensure that the grades are in the correct range (0 to 10).\n",
        "Calculate average: The calculate_average() function calculates the average of the grades entered, adding them all up and dividing by the number of grades.\n",
        "Check status: The check_status() function basically checks whether the student has passed or failed. If the average is greater than or equal to 7, the student is ‘Passed’, otherwise ‘Failed’.\n",
        "Display report: The display_report() function shows the student's summarised information, such as name, grades, average, status, highest and lowest grade and how many grades are above average.\n",
        "Save data: The save_student_data() function saves the student's data to a text file for persistence.\n",
        "Management via a menu: The primary function grade_system() allows the user to add students, view reports and exit the system using an interactive menu.\n",
        "\n",
        "This means that it is easy to manage the grades of different students and that the system is not loaded, providing a clear and efficient structure."
      ],
      "metadata": {
        "id": "PZC1WO3Qadp6"
      }
    }
  ]
}